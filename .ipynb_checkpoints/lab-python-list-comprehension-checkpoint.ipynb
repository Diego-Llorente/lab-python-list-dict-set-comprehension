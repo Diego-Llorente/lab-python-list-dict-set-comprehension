{
 "cells": [
  {
   "cell_type": "markdown",
   "id": "25d7736c-ba17-4aff-b6bb-66eba20fbf4e",
   "metadata": {},
   "source": [
    "# Lab | List, Dict and Set Comprehension"
   ]
  },
  {
   "cell_type": "markdown",
   "id": "7dd3cbde-675a-4b81-92c3-f728846dbe06",
   "metadata": {},
   "source": [
    "## Exercise: Managing Customer Orders Optimized with Comprehension"
   ]
  },
  {
   "cell_type": "markdown",
   "id": "5d500160-2fb7-4777-b5e4-09d45ebaf328",
   "metadata": {},
   "source": [
    "In the previous exercise, you developed a program to manage customer orders and inventory. Now, let's take it a step further and incorporate comprehension into your code.\n",
    "\n",
    "Follow the steps below to complete the exercise:\n",
    "\n",
    "1. Review your code from the previous exercise and identify areas where you can apply comprehension to simplify and streamline your code. \n",
    "\n",
    "    - *Hint: Apply it to initialize inventory, updating the inventory and printing the updated inventory.*\n",
    "    \n",
    "    - For example, in initializing the inventory, we could have:\n",
    "    \n",
    "        ```python\n",
    "        def initialize_inventory(products):\n",
    "            inventory = {product: int(input(f\"Enter the quantity of {product}s available: \")) for product in products}\n",
    "            return inventory\n",
    "\n",
    "        ```\n",
    "<br>\n",
    "    \n",
    "    \n",
    "2. Modify the function get_customer_orders so it prompts the user to enter the number of customer orders and gathers the product names using a loop and user input. Use comprehension.\n",
    "\n",
    "3. Add a new function to calculate the total price of the customer order. For each product in customer_orders, prompt the user to enter the price of that product. Use comprehension to calculate the total price. Note: assume that the user can only have 1 unit of each product.\n",
    "\n",
    "4. Modify the update_inventory function to remove the product from the inventory if its quantity becomes zero after fulfilling the customer orders. Use comprehension to filter out the products with a quantity of zero from the inventory.\n",
    "\n",
    "5. Print the total price of the customer order.\n",
    "\n",
    "Your code should produce output similar to the following:\n",
    "\n",
    "```python\n",
    "Enter the quantity of t-shirts available:  5\n",
    "Enter the quantity of mugs available:  4\n",
    "Enter the quantity of hats available:  3\n",
    "Enter the quantity of books available:  2\n",
    "Enter the quantity of keychains available:  1\n",
    "Enter the number of customer orders:  2\n",
    "Enter the name of a product that a customer wants to order:  hat\n",
    "Enter the name of a product that a customer wants to order:  keychain\n",
    "\n",
    "Order Statistics:\n",
    "Total Products Ordered: 2\n",
    "Percentage of Unique Products Ordered: 40.0\n",
    "\n",
    "Updated Inventory:\n",
    "t-shirt: 5\n",
    "mug: 4\n",
    "hat: 2\n",
    "book: 2\n",
    "Enter the price of keychain:  5\n",
    "Enter the price of hat:  10\n",
    "Total Price: 15.0\n",
    "\n",
    "```\n"
   ]
  },
  {
   "cell_type": "code",
   "execution_count": 1,
   "id": "03b6108e",
   "metadata": {},
   "outputs": [],
   "source": [
    "def initialize_inventory(products):\n",
    "    \n",
    "    inventory = {product: int(input(f\"Please enter the available quantity of {product}: \")) for product in products}\n",
    "  \n",
    "    return inventory"
   ]
  },
  {
   "cell_type": "code",
   "execution_count": 2,
   "id": "e43b402d",
   "metadata": {},
   "outputs": [
    {
     "name": "stdout",
     "output_type": "stream",
     "text": [
      "Please enter the available quantity of t-shirt: 5\n",
      "Please enter the available quantity of mug: 4\n",
      "Please enter the available quantity of hat: 3\n",
      "Please enter the available quantity of book: 2\n",
      "Please enter the available quantity of keychain: 1\n"
     ]
    }
   ],
   "source": [
    "initial_inventory = initialize_inventory([\"t-shirt\", \"mug\", \"hat\", \"book\", \"keychain\"])"
   ]
  },
  {
   "cell_type": "code",
   "execution_count": 3,
   "id": "aa64f918",
   "metadata": {},
   "outputs": [
    {
     "data": {
      "text/plain": [
       "{'t-shirt': 5, 'mug': 4, 'hat': 3, 'book': 2, 'keychain': 1}"
      ]
     },
     "execution_count": 3,
     "metadata": {},
     "output_type": "execute_result"
    }
   ],
   "source": [
    "initial_inventory"
   ]
  },
  {
   "cell_type": "code",
   "execution_count": 5,
   "id": "9aafc763",
   "metadata": {},
   "outputs": [],
   "source": [
    "def get_customer_orders():\n",
    "    order_num = int(input(\"Please enter the number of orders you want to do: \"))\n",
    "\n",
    "    customer_orders = {input(\"Please enter the product you want to order: \") for new_order in range(order_num)}\n",
    "    \n",
    "    return customer_orders"
   ]
  },
  {
   "cell_type": "code",
   "execution_count": 6,
   "id": "2475ee3b",
   "metadata": {},
   "outputs": [
    {
     "name": "stdout",
     "output_type": "stream",
     "text": [
      "Please enter the number of orders you want to do: 2\n",
      "Please enter the product you want to order: hat\n",
      "Please enter the product you want to order: keychain\n"
     ]
    }
   ],
   "source": [
    "items_ordered = get_customer_orders()"
   ]
  },
  {
   "cell_type": "code",
   "execution_count": 7,
   "id": "375dcfcf",
   "metadata": {},
   "outputs": [
    {
     "data": {
      "text/plain": [
       "{'hat', 'keychain'}"
      ]
     },
     "execution_count": 7,
     "metadata": {},
     "output_type": "execute_result"
    }
   ],
   "source": [
    "items_ordered"
   ]
  },
  {
   "cell_type": "code",
   "execution_count": 8,
   "id": "febf98e8",
   "metadata": {},
   "outputs": [],
   "source": [
    "def update_inventory(customer_orders, inventory):\n",
    "    \n",
    "    inventory = {product: inventory[product] - 1 if product in inventory else f\"{product} is not in our inventory.\" for product in customer_orders}  \n",
    "    \n",
    "    clear_inventory = {product: inventory[product] for product, quantity in inventory.items() if quantity > 0}\n",
    "   \n",
    "    return clear_inventory"
   ]
  },
  {
   "cell_type": "code",
   "execution_count": 9,
   "id": "54e17ff0",
   "metadata": {},
   "outputs": [],
   "source": [
    "updated_inventory = update_inventory(items_ordered, initial_inventory)"
   ]
  },
  {
   "cell_type": "code",
   "execution_count": 10,
   "id": "dd1191dc",
   "metadata": {},
   "outputs": [
    {
     "data": {
      "text/plain": [
       "{'hat': 2}"
      ]
     },
     "execution_count": 10,
     "metadata": {},
     "output_type": "execute_result"
    }
   ],
   "source": [
    "updated_inventory"
   ]
  },
  {
   "cell_type": "code",
   "execution_count": 11,
   "id": "5d6f0999",
   "metadata": {},
   "outputs": [],
   "source": [
    "def calculate_order_statistics(customer_orders, products):\n",
    "    total_products_ordered = len(customer_orders)\n",
    "    percentage_ordered = (total_products_ordered/len(products))*100\n",
    "    order_status = (total_products_ordered, percentage_ordered)\n",
    "    \n",
    "    return [total_products_ordered, percentage_ordered] "
   ]
  },
  {
   "cell_type": "code",
   "execution_count": 12,
   "id": "1eb2c965",
   "metadata": {},
   "outputs": [
    {
     "data": {
      "text/plain": [
       "[2, 40.0]"
      ]
     },
     "execution_count": 12,
     "metadata": {},
     "output_type": "execute_result"
    }
   ],
   "source": [
    "calculate_order_statistics(items_ordered, initial_inventory.keys())"
   ]
  },
  {
   "cell_type": "code",
   "execution_count": 13,
   "id": "26ca0e95",
   "metadata": {},
   "outputs": [],
   "source": [
    "statistics = calculate_order_statistics(items_ordered, initial_inventory.keys())"
   ]
  },
  {
   "cell_type": "code",
   "execution_count": 14,
   "id": "1d57727b",
   "metadata": {},
   "outputs": [],
   "source": [
    "def print_order_statistics(order_statistics):\n",
    "    count = 1\n",
    "    for stat in order_statistics:\n",
    "        if count == 1:\n",
    "            print(f\"The total number of products ordered is: {stat}.\")\n",
    "            count += 1\n",
    "        else:\n",
    "            print(f\"The percentage or ordered products is: {stat}%.\")"
   ]
  },
  {
   "cell_type": "code",
   "execution_count": 15,
   "id": "3fe22608",
   "metadata": {},
   "outputs": [
    {
     "name": "stdout",
     "output_type": "stream",
     "text": [
      "The total number of products ordered is: 2.\n",
      "The percentage or ordered products is: 40.0%.\n"
     ]
    }
   ],
   "source": [
    "print_order_statistics(statistics)"
   ]
  },
  {
   "cell_type": "code",
   "execution_count": 16,
   "id": "2b0ef52c",
   "metadata": {},
   "outputs": [],
   "source": [
    "def print_updated_inventory(inventory):\n",
    "    \n",
    "    printed_inventory = {f\"The product {product} has a stock of: {quantity}\" for product, quantity in inventory.items()}\n",
    "    \n",
    "    return printed_inventory"
   ]
  },
  {
   "cell_type": "code",
   "execution_count": 17,
   "id": "4c06cb26",
   "metadata": {},
   "outputs": [
    {
     "data": {
      "text/plain": [
       "{'The product hat has a stock of: 2'}"
      ]
     },
     "execution_count": 17,
     "metadata": {},
     "output_type": "execute_result"
    }
   ],
   "source": [
    "print_updated_inventory(updated_inventory)"
   ]
  },
  {
   "cell_type": "code",
   "execution_count": 21,
   "id": "0bb5f7f2",
   "metadata": {},
   "outputs": [],
   "source": [
    "def price_order(customer_order):\n",
    "\n",
    "    prices = {order :int(input(f\"Enter the price of the {order} \")) for order in customer_order}\n",
    "    total_prices = float(sum(prices.values()))\n",
    "    \n",
    "    return total_prices"
   ]
  },
  {
   "cell_type": "code",
   "execution_count": 22,
   "id": "f01b53d3",
   "metadata": {},
   "outputs": [
    {
     "name": "stdout",
     "output_type": "stream",
     "text": [
      "Enter the price of the hat 10\n",
      "Enter the price of the keychain 5\n"
     ]
    }
   ],
   "source": [
    "total_order_price = price_order(items_ordered)"
   ]
  },
  {
   "cell_type": "code",
   "execution_count": 23,
   "id": "61e995cf",
   "metadata": {},
   "outputs": [
    {
     "name": "stdout",
     "output_type": "stream",
     "text": [
      "15.0\n"
     ]
    }
   ],
   "source": [
    "print(total_order_price)"
   ]
  },
  {
   "cell_type": "code",
   "execution_count": null,
   "id": "5effef6c",
   "metadata": {},
   "outputs": [],
   "source": []
  }
 ],
 "metadata": {
  "kernelspec": {
   "display_name": "Python 3 (ipykernel)",
   "language": "python",
   "name": "python3"
  },
  "language_info": {
   "codemirror_mode": {
    "name": "ipython",
    "version": 3
   },
   "file_extension": ".py",
   "mimetype": "text/x-python",
   "name": "python",
   "nbconvert_exporter": "python",
   "pygments_lexer": "ipython3",
   "version": "3.11.7"
  }
 },
 "nbformat": 4,
 "nbformat_minor": 5
}
